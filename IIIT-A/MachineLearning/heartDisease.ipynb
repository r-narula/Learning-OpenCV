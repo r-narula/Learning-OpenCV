{
 "metadata": {
  "language_info": {
   "codemirror_mode": {
    "name": "ipython",
    "version": 3
   },
   "file_extension": ".py",
   "mimetype": "text/x-python",
   "name": "python",
   "nbconvert_exporter": "python",
   "pygments_lexer": "ipython3",
   "version": "3.8.2-final"
  },
  "orig_nbformat": 2,
  "kernelspec": {
   "name": "python3",
   "display_name": "Python 3"
  }
 },
 "nbformat": 4,
 "nbformat_minor": 2,
 "cells": [
  {
   "cell_type": "code",
   "execution_count": 2,
   "metadata": {},
   "outputs": [],
   "source": [
    "import numpy as np\n",
    "import matplotlib.pyplot as plt\n",
    "import pandas as pd"
   ]
  },
  {
   "cell_type": "code",
   "execution_count": 3,
   "metadata": {},
   "outputs": [],
   "source": [
    "data = pd.read_csv('heart.csv')"
   ]
  },
  {
   "cell_type": "code",
   "execution_count": 4,
   "metadata": {},
   "outputs": [
    {
     "output_type": "execute_result",
     "data": {
      "text/plain": [
       "<bound method NDFrame.head of      age  sex  cp  trestbps  chol  fbs  restecg  thalach  exang  oldpeak  \\\n",
       "0     63    1   3       145   233    1        0      150      0      2.3   \n",
       "1     37    1   2       130   250    0        1      187      0      3.5   \n",
       "2     41    0   1       130   204    0        0      172      0      1.4   \n",
       "3     56    1   1       120   236    0        1      178      0      0.8   \n",
       "4     57    0   0       120   354    0        1      163      1      0.6   \n",
       "..   ...  ...  ..       ...   ...  ...      ...      ...    ...      ...   \n",
       "298   57    0   0       140   241    0        1      123      1      0.2   \n",
       "299   45    1   3       110   264    0        1      132      0      1.2   \n",
       "300   68    1   0       144   193    1        1      141      0      3.4   \n",
       "301   57    1   0       130   131    0        1      115      1      1.2   \n",
       "302   57    0   1       130   236    0        0      174      0      0.0   \n",
       "\n",
       "     slope  ca  thal  target  \n",
       "0        0   0     1       1  \n",
       "1        0   0     2       1  \n",
       "2        2   0     2       1  \n",
       "3        2   0     2       1  \n",
       "4        2   0     2       1  \n",
       "..     ...  ..   ...     ...  \n",
       "298      1   0     3       0  \n",
       "299      1   0     3       0  \n",
       "300      1   2     3       0  \n",
       "301      1   1     3       0  \n",
       "302      1   1     2       0  \n",
       "\n",
       "[303 rows x 14 columns]>"
      ]
     },
     "metadata": {},
     "execution_count": 4
    }
   ],
   "source": [
    "data.head"
   ]
  },
  {
   "cell_type": "code",
   "execution_count": 5,
   "metadata": {},
   "outputs": [
    {
     "output_type": "execute_result",
     "data": {
      "text/plain": [
       "Index(['age', 'sex', 'cp', 'trestbps', 'chol', 'fbs', 'restecg', 'thalach',\n",
       "       'exang', 'oldpeak', 'slope', 'ca', 'thal', 'target'],\n",
       "      dtype='object')"
      ]
     },
     "metadata": {},
     "execution_count": 5
    }
   ],
   "source": [
    "data.columns"
   ]
  },
  {
   "cell_type": "code",
   "execution_count": 6,
   "metadata": {},
   "outputs": [],
   "source": [
    "# there were 76 columns but it stated to use th 14 columns only.\n",
    "# Hence using those 14 only.\n",
    "# we have to predict the target"
   ]
  },
  {
   "cell_type": "code",
   "execution_count": 7,
   "metadata": {},
   "outputs": [],
   "source": [
    "# categorical variables ->  cp restecg slope thal "
   ]
  },
  {
   "cell_type": "code",
   "execution_count": 8,
   "metadata": {},
   "outputs": [
    {
     "output_type": "execute_result",
     "data": {
      "text/plain": [
       "Index(['age', 'sex', 'trestbps', 'chol', 'fbs', 'restecg', 'thalach', 'exang',\n",
       "       'oldpeak', 'ca', 'target', 'cp_0', 'cp_1', 'cp_2', 'cp_3', 'thal_0',\n",
       "       'thal_1', 'thal_2', 'thal_3', 'slope_0', 'slope_1', 'slope_2'],\n",
       "      dtype='object')"
      ]
     },
     "metadata": {},
     "execution_count": 8
    }
   ],
   "source": [
    "data = pd.get_dummies(data,columns=['cp','thal','slope'])\n",
    "data.columns"
   ]
  },
  {
   "cell_type": "code",
   "execution_count": 9,
   "metadata": {},
   "outputs": [],
   "source": [
    "# removing any nan values \n",
    "# data = data.dropna()\n",
    "# data = data.drop(columns=['cp','restecg','thal','slope'])"
   ]
  },
  {
   "cell_type": "code",
   "execution_count": 10,
   "metadata": {},
   "outputs": [
    {
     "output_type": "execute_result",
     "data": {
      "text/plain": [
       "   age  sex  trestbps  chol  fbs  restecg  thalach  exang  oldpeak  ca  ...  \\\n",
       "0   63    1       145   233    1        0      150      0      2.3   0  ...   \n",
       "1   37    1       130   250    0        1      187      0      3.5   0  ...   \n",
       "2   41    0       130   204    0        0      172      0      1.4   0  ...   \n",
       "3   56    1       120   236    0        1      178      0      0.8   0  ...   \n",
       "4   57    0       120   354    0        1      163      1      0.6   0  ...   \n",
       "\n",
       "   cp_1  cp_2  cp_3  thal_0  thal_1  thal_2  thal_3  slope_0  slope_1  slope_2  \n",
       "0     0     0     1       0       1       0       0        1        0        0  \n",
       "1     0     1     0       0       0       1       0        1        0        0  \n",
       "2     1     0     0       0       0       1       0        0        0        1  \n",
       "3     1     0     0       0       0       1       0        0        0        1  \n",
       "4     0     0     0       0       0       1       0        0        0        1  \n",
       "\n",
       "[5 rows x 22 columns]"
      ],
      "text/html": "<div>\n<style scoped>\n    .dataframe tbody tr th:only-of-type {\n        vertical-align: middle;\n    }\n\n    .dataframe tbody tr th {\n        vertical-align: top;\n    }\n\n    .dataframe thead th {\n        text-align: right;\n    }\n</style>\n<table border=\"1\" class=\"dataframe\">\n  <thead>\n    <tr style=\"text-align: right;\">\n      <th></th>\n      <th>age</th>\n      <th>sex</th>\n      <th>trestbps</th>\n      <th>chol</th>\n      <th>fbs</th>\n      <th>restecg</th>\n      <th>thalach</th>\n      <th>exang</th>\n      <th>oldpeak</th>\n      <th>ca</th>\n      <th>...</th>\n      <th>cp_1</th>\n      <th>cp_2</th>\n      <th>cp_3</th>\n      <th>thal_0</th>\n      <th>thal_1</th>\n      <th>thal_2</th>\n      <th>thal_3</th>\n      <th>slope_0</th>\n      <th>slope_1</th>\n      <th>slope_2</th>\n    </tr>\n  </thead>\n  <tbody>\n    <tr>\n      <th>0</th>\n      <td>63</td>\n      <td>1</td>\n      <td>145</td>\n      <td>233</td>\n      <td>1</td>\n      <td>0</td>\n      <td>150</td>\n      <td>0</td>\n      <td>2.3</td>\n      <td>0</td>\n      <td>...</td>\n      <td>0</td>\n      <td>0</td>\n      <td>1</td>\n      <td>0</td>\n      <td>1</td>\n      <td>0</td>\n      <td>0</td>\n      <td>1</td>\n      <td>0</td>\n      <td>0</td>\n    </tr>\n    <tr>\n      <th>1</th>\n      <td>37</td>\n      <td>1</td>\n      <td>130</td>\n      <td>250</td>\n      <td>0</td>\n      <td>1</td>\n      <td>187</td>\n      <td>0</td>\n      <td>3.5</td>\n      <td>0</td>\n      <td>...</td>\n      <td>0</td>\n      <td>1</td>\n      <td>0</td>\n      <td>0</td>\n      <td>0</td>\n      <td>1</td>\n      <td>0</td>\n      <td>1</td>\n      <td>0</td>\n      <td>0</td>\n    </tr>\n    <tr>\n      <th>2</th>\n      <td>41</td>\n      <td>0</td>\n      <td>130</td>\n      <td>204</td>\n      <td>0</td>\n      <td>0</td>\n      <td>172</td>\n      <td>0</td>\n      <td>1.4</td>\n      <td>0</td>\n      <td>...</td>\n      <td>1</td>\n      <td>0</td>\n      <td>0</td>\n      <td>0</td>\n      <td>0</td>\n      <td>1</td>\n      <td>0</td>\n      <td>0</td>\n      <td>0</td>\n      <td>1</td>\n    </tr>\n    <tr>\n      <th>3</th>\n      <td>56</td>\n      <td>1</td>\n      <td>120</td>\n      <td>236</td>\n      <td>0</td>\n      <td>1</td>\n      <td>178</td>\n      <td>0</td>\n      <td>0.8</td>\n      <td>0</td>\n      <td>...</td>\n      <td>1</td>\n      <td>0</td>\n      <td>0</td>\n      <td>0</td>\n      <td>0</td>\n      <td>1</td>\n      <td>0</td>\n      <td>0</td>\n      <td>0</td>\n      <td>1</td>\n    </tr>\n    <tr>\n      <th>4</th>\n      <td>57</td>\n      <td>0</td>\n      <td>120</td>\n      <td>354</td>\n      <td>0</td>\n      <td>1</td>\n      <td>163</td>\n      <td>1</td>\n      <td>0.6</td>\n      <td>0</td>\n      <td>...</td>\n      <td>0</td>\n      <td>0</td>\n      <td>0</td>\n      <td>0</td>\n      <td>0</td>\n      <td>1</td>\n      <td>0</td>\n      <td>0</td>\n      <td>0</td>\n      <td>1</td>\n    </tr>\n  </tbody>\n</table>\n<p>5 rows × 22 columns</p>\n</div>"
     },
     "metadata": {},
     "execution_count": 10
    }
   ],
   "source": [
    "data.head()\n",
    "# data['target'].unique()"
   ]
  },
  {
   "cell_type": "code",
   "execution_count": 11,
   "metadata": {},
   "outputs": [],
   "source": [
    "# There is not much about the data to infer of and thus I would be using the models directly and fitting them."
   ]
  },
  {
   "cell_type": "code",
   "execution_count": 12,
   "metadata": {},
   "outputs": [],
   "source": [
    "# importing the classifiers\n",
    "from sklearn.linear_model import LogisticRegression\n",
    "from sklearn.neighbors import KNeighborsClassifier\n",
    "from sklearn.naive_bayes import GaussianNB\n",
    "from sklearn.tree import DecisionTreeClassifier\n",
    "from sklearn.svm import SVC"
   ]
  },
  {
   "cell_type": "code",
   "execution_count": 13,
   "metadata": {},
   "outputs": [],
   "source": [
    "# TRAIN TEST SPLIT\n",
    "X = data.iloc[:,:-1]\n",
    "y = data.iloc[:,-1]\n",
    "from sklearn.model_selection import train_test_split\n",
    "X_train,X_test,y_train,y_test = train_test_split(X,y,test_size=0.2,random_state=0)"
   ]
  },
  {
   "cell_type": "code",
   "execution_count": 14,
   "metadata": {},
   "outputs": [],
   "source": [
    "y_test = y_test.to_list()\n"
   ]
  },
  {
   "source": [
    "## Logistic Regression"
   ],
   "cell_type": "markdown",
   "metadata": {}
  },
  {
   "source": [
    "Key Points \n",
    "Works for binary classfication\n",
    "```\n",
    "Penalty\n",
    "```\n",
    "L1(Lasso) and L2(Ridge) regularization are not model enhancing things. Instead they are made to introduce to model to make it impure so as the model can be genralized well to the real case scenarios ..\n",
    "\n",
    "As Lasso has the square term of the weights hence the Features that are less important in magnitude are shrinked to zero. Thus removing them all together.\n",
    "\n",
    "This is not in case of Ridge regression which uses the absolute of the weight as the addtion to the loss function and hence all the features are kept but the addition if huge compared to the Lasso .\n",
    "\n",
    "```\n",
    "Solver\n",
    "```\n",
    "\n",
    "The purpose of solver is to reach the minimum of the function . \n",
    "Most times we are using the newton-cg method to reacht the minimum of the function.\n",
    "\n",
    "for smaller datasets the liblinear is good but for larger datasets the sag is good\n",
    "\n",
    "```\n",
    "tol - 0.0001(defualt)\n",
    "```\n",
    "determines when to stop.\n",
    "\n",
    "```\n",
    "max_iter.\n",
    "```\n",
    "Max number of iterations to converge. "
   ],
   "cell_type": "markdown",
   "metadata": {}
  },
  {
   "cell_type": "code",
   "execution_count": 15,
   "metadata": {},
   "outputs": [
    {
     "output_type": "stream",
     "name": "stdout",
     "text": [
      "C is: 0.0001 For Logistic regression acccuracy is : 0.7540983606557377\n",
      "C is: 0.001 For Logistic regression acccuracy is : 0.7377049180327869\n",
      "C is: 0.01 For Logistic regression acccuracy is : 0.8032786885245902\n",
      "C is: 1 For Logistic regression acccuracy is : 0.9836065573770492\n",
      "C is: 10 For Logistic regression acccuracy is : 1.0\n"
     ]
    }
   ],
   "source": [
    "C = [0.0001,0.001,0.01,1,10]\n",
    "# C is the inverse of regularization and this effects the extent of regularization in it. Less the C more the regularization..\n",
    "\n",
    "for c in C:\n",
    "    lr = LogisticRegression(penalty='l2',C=c,solver='newton-cg',tol=0.0001,max_iter=100)\n",
    "    lr.fit(X_train,y_train)\n",
    "    y_predict = lr.predict(X_test)\n",
    "    count = 0\n",
    "    for i in range(len(y_test)):\n",
    "        if y_test[i] == y_predict[i]:\n",
    "            count += 1\n",
    "    print(\"C is:\",c,\"For Logistic regression acccuracy is :\",count/len(y_test))\n"
   ]
  },
  {
   "source": [
    "## KNN"
   ],
   "cell_type": "markdown",
   "metadata": {}
  },
  {
   "source": [
    "There are not parameters to tweak to."
   ],
   "cell_type": "markdown",
   "metadata": {}
  },
  {
   "cell_type": "code",
   "execution_count": 16,
   "metadata": {},
   "outputs": [
    {
     "output_type": "stream",
     "name": "stdout",
     "text": [
      "The best knn accuracy acheived is :  0.819672131147541\n"
     ]
    }
   ],
   "source": [
    "list = []\n",
    "for k in range(1,20):\n",
    "    knn = KNeighborsClassifier(n_neighbors=k)\n",
    "    knn.fit(X_train,y_train)\n",
    "    y_predict = knn.predict(X_test)\n",
    "    count = 0\n",
    "    for i in range(len(y_test)):\n",
    "        if y_test[i] == y_predict[i]:\n",
    "            count += 1\n",
    "    list.append(count/len(y_test))\n",
    "print(\"The best knn accuracy acheived is : \",max(list))  "
   ]
  },
  {
   "source": [
    "## Naive Bayes"
   ],
   "cell_type": "markdown",
   "metadata": {}
  },
  {
   "cell_type": "code",
   "execution_count": 17,
   "metadata": {},
   "outputs": [
    {
     "output_type": "stream",
     "name": "stdout",
     "text": [
      "The accuracy of the Naive Bayes is :  1.0\n"
     ]
    }
   ],
   "source": [
    "gnb = GaussianNB()\n",
    "gnb.fit(X_train,y_train)\n",
    "y_predict = gnb.predict(X_test)\n",
    "count = 0\n",
    "for i in range(len(y_test)):\n",
    "    if y_test[i] == y_predict[i]:\n",
    "        count += 1\n",
    "print(\"The accuracy of the Naive Bayes is : \",count/len(y_test)) "
   ]
  },
  {
   "source": [
    " As you can see that the naive bayes gives us about 100 % accuracy . This is because of the following reasons =>\n",
    "\n",
    "It is a fast learner and hence requires less data to learn.\n",
    "\n",
    "\n",
    "1) Presence of many independent variables.\n",
    "\n",
    "2) High correlation between the independent variables. There must be fields that are not much interrelated to each other. \n",
    "\n"
   ],
   "cell_type": "markdown",
   "metadata": {}
  },
  {
   "source": [
    "## SVM"
   ],
   "cell_type": "markdown",
   "metadata": {}
  },
  {
   "source": [
    "```\n",
    "C (regularization parameter)\n",
    "```\n",
    "The strength of regularization is inversely proportional to the C\n",
    "```\n",
    "kernel \n",
    "```\n",
    "it is of many types . including the rbf , poly, linear, etc.."
   ],
   "cell_type": "markdown",
   "metadata": {}
  },
  {
   "cell_type": "code",
   "execution_count": 18,
   "metadata": {},
   "outputs": [
    {
     "output_type": "stream",
     "name": "stdout",
     "text": [
      "[0 0 0 0 0 1 0 0 0 0 0 1 0 1 1 1 1 1 0 0 1 0 0 0 1 0 1 0 0 1 1 0 1 1 1 0 0\n 1 0 0 0 1 1 0 0 0 1 1 0 1 1 0 1 0 1 0 0 1 1 1 0]\nThe accuracy of the SVM is :  0.7868852459016393\n"
     ]
    }
   ],
   "source": [
    "svm = SVC(kernel='rbf',gamma=0.002)\n",
    "svm.fit(X_train,y_train)\n",
    "y_predict = svm.predict(X_test)\n",
    "print(y_predict)\n",
    "count = 0\n",
    "for i in range(len(y_test)):\n",
    "    if y_test[i] == y_predict[i]:\n",
    "        count += 1\n",
    "print(\"The accuracy of the SVM is : \",count/len(y_test)) "
   ]
  },
  {
   "source": [
    "## Decision Tree Classification\n"
   ],
   "cell_type": "markdown",
   "metadata": {}
  },
  {
   "cell_type": "code",
   "execution_count": 29,
   "metadata": {},
   "outputs": [
    {
     "output_type": "stream",
     "name": "stdout",
     "text": [
      "The accuracy of the Decision Tree classifier is :  0.9344262295081968\n1\n"
     ]
    }
   ],
   "source": [
    "dtree = DecisionTreeClassifier(max_depth=1,criterion='gini')\n",
    "dtree.fit(X_train,y_train)\n",
    "y_predict = dtree.predict(X_test)\n",
    "count = 0\n",
    "for i in range(len(y_test)):\n",
    "    if y_test[i] == y_predict[i]:\n",
    "        count += 1\n",
    "print(\"The accuracy of the Decision Tree classifier is : \",count/len(y_test)) \n",
    "print(dtree.get_depth())\n",
    "\n"
   ]
  },
  {
   "cell_type": "code",
   "execution_count": 30,
   "metadata": {},
   "outputs": [],
   "source": [
    "## THey tend to overfit easily.."
   ]
  },
  {
   "cell_type": "code",
   "execution_count": 28,
   "metadata": {},
   "outputs": [
    {
     "output_type": "execute_result",
     "data": {
      "text/plain": [
       "[Text(167.4, 163.07999999999998, 'X[20] <= 0.5\\ngini = 0.499\\nsamples = 242\\nvalue = [126, 116]'),\n",
       " Text(83.7, 54.360000000000014, 'gini = 0.223\\nsamples = 133\\nvalue = [17, 116]'),\n",
       " Text(251.10000000000002, 54.360000000000014, 'gini = 0.0\\nsamples = 109\\nvalue = [109, 0]')]"
      ]
     },
     "metadata": {},
     "execution_count": 28
    },
    {
     "output_type": "display_data",
     "data": {
      "text/plain": "<Figure size 432x288 with 1 Axes>",
      "image/svg+xml": "<?xml version=\"1.0\" encoding=\"utf-8\" standalone=\"no\"?>\n<!DOCTYPE svg PUBLIC \"-//W3C//DTD SVG 1.1//EN\"\n  \"http://www.w3.org/Graphics/SVG/1.1/DTD/svg11.dtd\">\n<!-- Created with matplotlib (https://matplotlib.org/) -->\n<svg height=\"231.84pt\" version=\"1.1\" viewBox=\"0 0 349.2 231.84\" width=\"349.2pt\" xmlns=\"http://www.w3.org/2000/svg\" xmlns:xlink=\"http://www.w3.org/1999/xlink\">\n <metadata>\n  <rdf:RDF xmlns:cc=\"http://creativecommons.org/ns#\" xmlns:dc=\"http://purl.org/dc/elements/1.1/\" xmlns:rdf=\"http://www.w3.org/1999/02/22-rdf-syntax-ns#\">\n   <cc:Work>\n    <dc:type rdf:resource=\"http://purl.org/dc/dcmitype/StillImage\"/>\n    <dc:date>2020-12-01T21:10:37.550100</dc:date>\n    <dc:format>image/svg+xml</dc:format>\n    <dc:creator>\n     <cc:Agent>\n      <dc:title>Matplotlib v3.3.3, https://matplotlib.org/</dc:title>\n     </cc:Agent>\n    </dc:creator>\n   </cc:Work>\n  </rdf:RDF>\n </metadata>\n <defs>\n  <style type=\"text/css\">*{stroke-linecap:butt;stroke-linejoin:round;}</style>\n </defs>\n <g id=\"figure_1\">\n  <g id=\"patch_1\">\n   <path d=\"M 0 231.84 \nL 349.2 231.84 \nL 349.2 0 \nL 0 0 \nz\n\" style=\"fill:none;\"/>\n  </g>\n  <g id=\"axes_1\">\n   <g id=\"patch_2\">\n    <path d=\"M 118.4106 134.545801 \nQ 145.554228 99.288271 173.379888 63.144833 \n\" style=\"fill:none;stroke:#000000;stroke-linecap:round;\"/>\n    <path d=\"M 124.991928 131.358105 \nL 118.4106 134.545801 \nL 119.809239 127.368121 \n\" style=\"fill:none;stroke:#000000;stroke-linecap:round;\"/>\n   </g>\n   <g id=\"text_1\">\n    <g id=\"patch_3\">\n     <path d=\"M 12.392926 203.043593 \nL 169.407074 203.043593 \nL 169.407074 137.516407 \nL 12.392926 137.516407 \nz\n\" style=\"fill:#ffffff;stroke:#000000;stroke-linejoin:miter;\"/>\n    </g>\n    <!-- gini = 0.223 -->\n    <g transform=\"translate(40.531813 156.481764)scale(0.163516 -0.163516)\">\n     <defs>\n      <path d=\"M 45.40625 27.984375 \nQ 45.40625 37.75 41.375 43.109375 \nQ 37.359375 48.484375 30.078125 48.484375 \nQ 22.859375 48.484375 18.828125 43.109375 \nQ 14.796875 37.75 14.796875 27.984375 \nQ 14.796875 18.265625 18.828125 12.890625 \nQ 22.859375 7.515625 30.078125 7.515625 \nQ 37.359375 7.515625 41.375 12.890625 \nQ 45.40625 18.265625 45.40625 27.984375 \nz\nM 54.390625 6.78125 \nQ 54.390625 -7.171875 48.1875 -13.984375 \nQ 42 -20.796875 29.203125 -20.796875 \nQ 24.46875 -20.796875 20.265625 -20.09375 \nQ 16.0625 -19.390625 12.109375 -17.921875 \nL 12.109375 -9.1875 \nQ 16.0625 -11.328125 19.921875 -12.34375 \nQ 23.78125 -13.375 27.78125 -13.375 \nQ 36.625 -13.375 41.015625 -8.765625 \nQ 45.40625 -4.15625 45.40625 5.171875 \nL 45.40625 9.625 \nQ 42.625 4.78125 38.28125 2.390625 \nQ 33.9375 0 27.875 0 \nQ 17.828125 0 11.671875 7.65625 \nQ 5.515625 15.328125 5.515625 27.984375 \nQ 5.515625 40.671875 11.671875 48.328125 \nQ 17.828125 56 27.875 56 \nQ 33.9375 56 38.28125 53.609375 \nQ 42.625 51.21875 45.40625 46.390625 \nL 45.40625 54.6875 \nL 54.390625 54.6875 \nz\n\" id=\"DejaVuSans-103\"/>\n      <path d=\"M 9.421875 54.6875 \nL 18.40625 54.6875 \nL 18.40625 0 \nL 9.421875 0 \nz\nM 9.421875 75.984375 \nL 18.40625 75.984375 \nL 18.40625 64.59375 \nL 9.421875 64.59375 \nz\n\" id=\"DejaVuSans-105\"/>\n      <path d=\"M 54.890625 33.015625 \nL 54.890625 0 \nL 45.90625 0 \nL 45.90625 32.71875 \nQ 45.90625 40.484375 42.875 44.328125 \nQ 39.84375 48.1875 33.796875 48.1875 \nQ 26.515625 48.1875 22.3125 43.546875 \nQ 18.109375 38.921875 18.109375 30.90625 \nL 18.109375 0 \nL 9.078125 0 \nL 9.078125 54.6875 \nL 18.109375 54.6875 \nL 18.109375 46.1875 \nQ 21.34375 51.125 25.703125 53.5625 \nQ 30.078125 56 35.796875 56 \nQ 45.21875 56 50.046875 50.171875 \nQ 54.890625 44.34375 54.890625 33.015625 \nz\n\" id=\"DejaVuSans-110\"/>\n      <path id=\"DejaVuSans-32\"/>\n      <path d=\"M 10.59375 45.40625 \nL 73.1875 45.40625 \nL 73.1875 37.203125 \nL 10.59375 37.203125 \nz\nM 10.59375 25.484375 \nL 73.1875 25.484375 \nL 73.1875 17.1875 \nL 10.59375 17.1875 \nz\n\" id=\"DejaVuSans-61\"/>\n      <path d=\"M 31.78125 66.40625 \nQ 24.171875 66.40625 20.328125 58.90625 \nQ 16.5 51.421875 16.5 36.375 \nQ 16.5 21.390625 20.328125 13.890625 \nQ 24.171875 6.390625 31.78125 6.390625 \nQ 39.453125 6.390625 43.28125 13.890625 \nQ 47.125 21.390625 47.125 36.375 \nQ 47.125 51.421875 43.28125 58.90625 \nQ 39.453125 66.40625 31.78125 66.40625 \nz\nM 31.78125 74.21875 \nQ 44.046875 74.21875 50.515625 64.515625 \nQ 56.984375 54.828125 56.984375 36.375 \nQ 56.984375 17.96875 50.515625 8.265625 \nQ 44.046875 -1.421875 31.78125 -1.421875 \nQ 19.53125 -1.421875 13.0625 8.265625 \nQ 6.59375 17.96875 6.59375 36.375 \nQ 6.59375 54.828125 13.0625 64.515625 \nQ 19.53125 74.21875 31.78125 74.21875 \nz\n\" id=\"DejaVuSans-48\"/>\n      <path d=\"M 10.6875 12.40625 \nL 21 12.40625 \nL 21 0 \nL 10.6875 0 \nz\n\" id=\"DejaVuSans-46\"/>\n      <path d=\"M 19.1875 8.296875 \nL 53.609375 8.296875 \nL 53.609375 0 \nL 7.328125 0 \nL 7.328125 8.296875 \nQ 12.9375 14.109375 22.625 23.890625 \nQ 32.328125 33.6875 34.8125 36.53125 \nQ 39.546875 41.84375 41.421875 45.53125 \nQ 43.3125 49.21875 43.3125 52.78125 \nQ 43.3125 58.59375 39.234375 62.25 \nQ 35.15625 65.921875 28.609375 65.921875 \nQ 23.96875 65.921875 18.8125 64.3125 \nQ 13.671875 62.703125 7.8125 59.421875 \nL 7.8125 69.390625 \nQ 13.765625 71.78125 18.9375 73 \nQ 24.125 74.21875 28.421875 74.21875 \nQ 39.75 74.21875 46.484375 68.546875 \nQ 53.21875 62.890625 53.21875 53.421875 \nQ 53.21875 48.921875 51.53125 44.890625 \nQ 49.859375 40.875 45.40625 35.40625 \nQ 44.1875 33.984375 37.640625 27.21875 \nQ 31.109375 20.453125 19.1875 8.296875 \nz\n\" id=\"DejaVuSans-50\"/>\n      <path d=\"M 40.578125 39.3125 \nQ 47.65625 37.796875 51.625 33 \nQ 55.609375 28.21875 55.609375 21.1875 \nQ 55.609375 10.40625 48.1875 4.484375 \nQ 40.765625 -1.421875 27.09375 -1.421875 \nQ 22.515625 -1.421875 17.65625 -0.515625 \nQ 12.796875 0.390625 7.625 2.203125 \nL 7.625 11.71875 \nQ 11.71875 9.328125 16.59375 8.109375 \nQ 21.484375 6.890625 26.8125 6.890625 \nQ 36.078125 6.890625 40.9375 10.546875 \nQ 45.796875 14.203125 45.796875 21.1875 \nQ 45.796875 27.640625 41.28125 31.265625 \nQ 36.765625 34.90625 28.71875 34.90625 \nL 20.21875 34.90625 \nL 20.21875 43.015625 \nL 29.109375 43.015625 \nQ 36.375 43.015625 40.234375 45.921875 \nQ 44.09375 48.828125 44.09375 54.296875 \nQ 44.09375 59.90625 40.109375 62.90625 \nQ 36.140625 65.921875 28.71875 65.921875 \nQ 24.65625 65.921875 20.015625 65.03125 \nQ 15.375 64.15625 9.8125 62.3125 \nL 9.8125 71.09375 \nQ 15.4375 72.65625 20.34375 73.4375 \nQ 25.25 74.21875 29.59375 74.21875 \nQ 40.828125 74.21875 47.359375 69.109375 \nQ 53.90625 64.015625 53.90625 55.328125 \nQ 53.90625 49.265625 50.4375 45.09375 \nQ 46.96875 40.921875 40.578125 39.3125 \nz\n\" id=\"DejaVuSans-51\"/>\n     </defs>\n     <use xlink:href=\"#DejaVuSans-103\"/>\n     <use x=\"63.476562\" xlink:href=\"#DejaVuSans-105\"/>\n     <use x=\"91.259766\" xlink:href=\"#DejaVuSans-110\"/>\n     <use x=\"154.638672\" xlink:href=\"#DejaVuSans-105\"/>\n     <use x=\"182.421875\" xlink:href=\"#DejaVuSans-32\"/>\n     <use x=\"214.208984\" xlink:href=\"#DejaVuSans-61\"/>\n     <use x=\"297.998047\" xlink:href=\"#DejaVuSans-32\"/>\n     <use x=\"329.785156\" xlink:href=\"#DejaVuSans-48\"/>\n     <use x=\"393.408203\" xlink:href=\"#DejaVuSans-46\"/>\n     <use x=\"425.195312\" xlink:href=\"#DejaVuSans-50\"/>\n     <use x=\"488.818359\" xlink:href=\"#DejaVuSans-50\"/>\n     <use x=\"552.441406\" xlink:href=\"#DejaVuSans-51\"/>\n    </g>\n    <!-- samples = 133 -->\n    <g transform=\"translate(29.261951 174.792033)scale(0.163516 -0.163516)\">\n     <defs>\n      <path d=\"M 44.28125 53.078125 \nL 44.28125 44.578125 \nQ 40.484375 46.53125 36.375 47.5 \nQ 32.28125 48.484375 27.875 48.484375 \nQ 21.1875 48.484375 17.84375 46.4375 \nQ 14.5 44.390625 14.5 40.28125 \nQ 14.5 37.15625 16.890625 35.375 \nQ 19.28125 33.59375 26.515625 31.984375 \nL 29.59375 31.296875 \nQ 39.15625 29.25 43.1875 25.515625 \nQ 47.21875 21.78125 47.21875 15.09375 \nQ 47.21875 7.46875 41.1875 3.015625 \nQ 35.15625 -1.421875 24.609375 -1.421875 \nQ 20.21875 -1.421875 15.453125 -0.5625 \nQ 10.6875 0.296875 5.421875 2 \nL 5.421875 11.28125 \nQ 10.40625 8.6875 15.234375 7.390625 \nQ 20.0625 6.109375 24.8125 6.109375 \nQ 31.15625 6.109375 34.5625 8.28125 \nQ 37.984375 10.453125 37.984375 14.40625 \nQ 37.984375 18.0625 35.515625 20.015625 \nQ 33.0625 21.96875 24.703125 23.78125 \nL 21.578125 24.515625 \nQ 13.234375 26.265625 9.515625 29.90625 \nQ 5.8125 33.546875 5.8125 39.890625 \nQ 5.8125 47.609375 11.28125 51.796875 \nQ 16.75 56 26.8125 56 \nQ 31.78125 56 36.171875 55.265625 \nQ 40.578125 54.546875 44.28125 53.078125 \nz\n\" id=\"DejaVuSans-115\"/>\n      <path d=\"M 34.28125 27.484375 \nQ 23.390625 27.484375 19.1875 25 \nQ 14.984375 22.515625 14.984375 16.5 \nQ 14.984375 11.71875 18.140625 8.90625 \nQ 21.296875 6.109375 26.703125 6.109375 \nQ 34.1875 6.109375 38.703125 11.40625 \nQ 43.21875 16.703125 43.21875 25.484375 \nL 43.21875 27.484375 \nz\nM 52.203125 31.203125 \nL 52.203125 0 \nL 43.21875 0 \nL 43.21875 8.296875 \nQ 40.140625 3.328125 35.546875 0.953125 \nQ 30.953125 -1.421875 24.3125 -1.421875 \nQ 15.921875 -1.421875 10.953125 3.296875 \nQ 6 8.015625 6 15.921875 \nQ 6 25.140625 12.171875 29.828125 \nQ 18.359375 34.515625 30.609375 34.515625 \nL 43.21875 34.515625 \nL 43.21875 35.40625 \nQ 43.21875 41.609375 39.140625 45 \nQ 35.0625 48.390625 27.6875 48.390625 \nQ 23 48.390625 18.546875 47.265625 \nQ 14.109375 46.140625 10.015625 43.890625 \nL 10.015625 52.203125 \nQ 14.9375 54.109375 19.578125 55.046875 \nQ 24.21875 56 28.609375 56 \nQ 40.484375 56 46.34375 49.84375 \nQ 52.203125 43.703125 52.203125 31.203125 \nz\n\" id=\"DejaVuSans-97\"/>\n      <path d=\"M 52 44.1875 \nQ 55.375 50.25 60.0625 53.125 \nQ 64.75 56 71.09375 56 \nQ 79.640625 56 84.28125 50.015625 \nQ 88.921875 44.046875 88.921875 33.015625 \nL 88.921875 0 \nL 79.890625 0 \nL 79.890625 32.71875 \nQ 79.890625 40.578125 77.09375 44.375 \nQ 74.3125 48.1875 68.609375 48.1875 \nQ 61.625 48.1875 57.5625 43.546875 \nQ 53.515625 38.921875 53.515625 30.90625 \nL 53.515625 0 \nL 44.484375 0 \nL 44.484375 32.71875 \nQ 44.484375 40.625 41.703125 44.40625 \nQ 38.921875 48.1875 33.109375 48.1875 \nQ 26.21875 48.1875 22.15625 43.53125 \nQ 18.109375 38.875 18.109375 30.90625 \nL 18.109375 0 \nL 9.078125 0 \nL 9.078125 54.6875 \nL 18.109375 54.6875 \nL 18.109375 46.1875 \nQ 21.1875 51.21875 25.484375 53.609375 \nQ 29.78125 56 35.6875 56 \nQ 41.65625 56 45.828125 52.96875 \nQ 50 49.953125 52 44.1875 \nz\n\" id=\"DejaVuSans-109\"/>\n      <path d=\"M 18.109375 8.203125 \nL 18.109375 -20.796875 \nL 9.078125 -20.796875 \nL 9.078125 54.6875 \nL 18.109375 54.6875 \nL 18.109375 46.390625 \nQ 20.953125 51.265625 25.265625 53.625 \nQ 29.59375 56 35.59375 56 \nQ 45.5625 56 51.78125 48.09375 \nQ 58.015625 40.1875 58.015625 27.296875 \nQ 58.015625 14.40625 51.78125 6.484375 \nQ 45.5625 -1.421875 35.59375 -1.421875 \nQ 29.59375 -1.421875 25.265625 0.953125 \nQ 20.953125 3.328125 18.109375 8.203125 \nz\nM 48.6875 27.296875 \nQ 48.6875 37.203125 44.609375 42.84375 \nQ 40.53125 48.484375 33.40625 48.484375 \nQ 26.265625 48.484375 22.1875 42.84375 \nQ 18.109375 37.203125 18.109375 27.296875 \nQ 18.109375 17.390625 22.1875 11.75 \nQ 26.265625 6.109375 33.40625 6.109375 \nQ 40.53125 6.109375 44.609375 11.75 \nQ 48.6875 17.390625 48.6875 27.296875 \nz\n\" id=\"DejaVuSans-112\"/>\n      <path d=\"M 9.421875 75.984375 \nL 18.40625 75.984375 \nL 18.40625 0 \nL 9.421875 0 \nz\n\" id=\"DejaVuSans-108\"/>\n      <path d=\"M 56.203125 29.59375 \nL 56.203125 25.203125 \nL 14.890625 25.203125 \nQ 15.484375 15.921875 20.484375 11.0625 \nQ 25.484375 6.203125 34.421875 6.203125 \nQ 39.59375 6.203125 44.453125 7.46875 \nQ 49.3125 8.734375 54.109375 11.28125 \nL 54.109375 2.78125 \nQ 49.265625 0.734375 44.1875 -0.34375 \nQ 39.109375 -1.421875 33.890625 -1.421875 \nQ 20.796875 -1.421875 13.15625 6.1875 \nQ 5.515625 13.8125 5.515625 26.8125 \nQ 5.515625 40.234375 12.765625 48.109375 \nQ 20.015625 56 32.328125 56 \nQ 43.359375 56 49.78125 48.890625 \nQ 56.203125 41.796875 56.203125 29.59375 \nz\nM 47.21875 32.234375 \nQ 47.125 39.59375 43.09375 43.984375 \nQ 39.0625 48.390625 32.421875 48.390625 \nQ 24.90625 48.390625 20.390625 44.140625 \nQ 15.875 39.890625 15.1875 32.171875 \nz\n\" id=\"DejaVuSans-101\"/>\n      <path d=\"M 12.40625 8.296875 \nL 28.515625 8.296875 \nL 28.515625 63.921875 \nL 10.984375 60.40625 \nL 10.984375 69.390625 \nL 28.421875 72.90625 \nL 38.28125 72.90625 \nL 38.28125 8.296875 \nL 54.390625 8.296875 \nL 54.390625 0 \nL 12.40625 0 \nz\n\" id=\"DejaVuSans-49\"/>\n     </defs>\n     <use xlink:href=\"#DejaVuSans-115\"/>\n     <use x=\"52.099609\" xlink:href=\"#DejaVuSans-97\"/>\n     <use x=\"113.378906\" xlink:href=\"#DejaVuSans-109\"/>\n     <use x=\"210.791016\" xlink:href=\"#DejaVuSans-112\"/>\n     <use x=\"274.267578\" xlink:href=\"#DejaVuSans-108\"/>\n     <use x=\"302.050781\" xlink:href=\"#DejaVuSans-101\"/>\n     <use x=\"363.574219\" xlink:href=\"#DejaVuSans-115\"/>\n     <use x=\"415.673828\" xlink:href=\"#DejaVuSans-32\"/>\n     <use x=\"447.460938\" xlink:href=\"#DejaVuSans-61\"/>\n     <use x=\"531.25\" xlink:href=\"#DejaVuSans-32\"/>\n     <use x=\"563.037109\" xlink:href=\"#DejaVuSans-49\"/>\n     <use x=\"626.660156\" xlink:href=\"#DejaVuSans-51\"/>\n     <use x=\"690.283203\" xlink:href=\"#DejaVuSans-51\"/>\n    </g>\n    <!-- value = [17, 116] -->\n    <g transform=\"translate(18.933585 193.102302)scale(0.163516 -0.163516)\">\n     <defs>\n      <path d=\"M 2.984375 54.6875 \nL 12.5 54.6875 \nL 29.59375 8.796875 \nL 46.6875 54.6875 \nL 56.203125 54.6875 \nL 35.6875 0 \nL 23.484375 0 \nz\n\" id=\"DejaVuSans-118\"/>\n      <path d=\"M 8.5 21.578125 \nL 8.5 54.6875 \nL 17.484375 54.6875 \nL 17.484375 21.921875 \nQ 17.484375 14.15625 20.5 10.265625 \nQ 23.53125 6.390625 29.59375 6.390625 \nQ 36.859375 6.390625 41.078125 11.03125 \nQ 45.3125 15.671875 45.3125 23.6875 \nL 45.3125 54.6875 \nL 54.296875 54.6875 \nL 54.296875 0 \nL 45.3125 0 \nL 45.3125 8.40625 \nQ 42.046875 3.421875 37.71875 1 \nQ 33.40625 -1.421875 27.6875 -1.421875 \nQ 18.265625 -1.421875 13.375 4.4375 \nQ 8.5 10.296875 8.5 21.578125 \nz\nM 31.109375 56 \nz\n\" id=\"DejaVuSans-117\"/>\n      <path d=\"M 8.59375 75.984375 \nL 29.296875 75.984375 \nL 29.296875 69 \nL 17.578125 69 \nL 17.578125 -6.203125 \nL 29.296875 -6.203125 \nL 29.296875 -13.1875 \nL 8.59375 -13.1875 \nz\n\" id=\"DejaVuSans-91\"/>\n      <path d=\"M 8.203125 72.90625 \nL 55.078125 72.90625 \nL 55.078125 68.703125 \nL 28.609375 0 \nL 18.3125 0 \nL 43.21875 64.59375 \nL 8.203125 64.59375 \nz\n\" id=\"DejaVuSans-55\"/>\n      <path d=\"M 11.71875 12.40625 \nL 22.015625 12.40625 \nL 22.015625 4 \nL 14.015625 -11.625 \nL 7.71875 -11.625 \nL 11.71875 4 \nz\n\" id=\"DejaVuSans-44\"/>\n      <path d=\"M 33.015625 40.375 \nQ 26.375 40.375 22.484375 35.828125 \nQ 18.609375 31.296875 18.609375 23.390625 \nQ 18.609375 15.53125 22.484375 10.953125 \nQ 26.375 6.390625 33.015625 6.390625 \nQ 39.65625 6.390625 43.53125 10.953125 \nQ 47.40625 15.53125 47.40625 23.390625 \nQ 47.40625 31.296875 43.53125 35.828125 \nQ 39.65625 40.375 33.015625 40.375 \nz\nM 52.59375 71.296875 \nL 52.59375 62.3125 \nQ 48.875 64.0625 45.09375 64.984375 \nQ 41.3125 65.921875 37.59375 65.921875 \nQ 27.828125 65.921875 22.671875 59.328125 \nQ 17.53125 52.734375 16.796875 39.40625 \nQ 19.671875 43.65625 24.015625 45.921875 \nQ 28.375 48.1875 33.59375 48.1875 \nQ 44.578125 48.1875 50.953125 41.515625 \nQ 57.328125 34.859375 57.328125 23.390625 \nQ 57.328125 12.15625 50.6875 5.359375 \nQ 44.046875 -1.421875 33.015625 -1.421875 \nQ 20.359375 -1.421875 13.671875 8.265625 \nQ 6.984375 17.96875 6.984375 36.375 \nQ 6.984375 53.65625 15.1875 63.9375 \nQ 23.390625 74.21875 37.203125 74.21875 \nQ 40.921875 74.21875 44.703125 73.484375 \nQ 48.484375 72.75 52.59375 71.296875 \nz\n\" id=\"DejaVuSans-54\"/>\n      <path d=\"M 30.421875 75.984375 \nL 30.421875 -13.1875 \nL 9.71875 -13.1875 \nL 9.71875 -6.203125 \nL 21.390625 -6.203125 \nL 21.390625 69 \nL 9.71875 69 \nL 9.71875 75.984375 \nz\n\" id=\"DejaVuSans-93\"/>\n     </defs>\n     <use xlink:href=\"#DejaVuSans-118\"/>\n     <use x=\"59.179688\" xlink:href=\"#DejaVuSans-97\"/>\n     <use x=\"120.458984\" xlink:href=\"#DejaVuSans-108\"/>\n     <use x=\"148.242188\" xlink:href=\"#DejaVuSans-117\"/>\n     <use x=\"211.621094\" xlink:href=\"#DejaVuSans-101\"/>\n     <use x=\"273.144531\" xlink:href=\"#DejaVuSans-32\"/>\n     <use x=\"304.931641\" xlink:href=\"#DejaVuSans-61\"/>\n     <use x=\"388.720703\" xlink:href=\"#DejaVuSans-32\"/>\n     <use x=\"420.507812\" xlink:href=\"#DejaVuSans-91\"/>\n     <use x=\"459.521484\" xlink:href=\"#DejaVuSans-49\"/>\n     <use x=\"523.144531\" xlink:href=\"#DejaVuSans-55\"/>\n     <use x=\"586.767578\" xlink:href=\"#DejaVuSans-44\"/>\n     <use x=\"618.554688\" xlink:href=\"#DejaVuSans-32\"/>\n     <use x=\"650.341797\" xlink:href=\"#DejaVuSans-49\"/>\n     <use x=\"713.964844\" xlink:href=\"#DejaVuSans-49\"/>\n     <use x=\"777.587891\" xlink:href=\"#DejaVuSans-54\"/>\n     <use x=\"841.210938\" xlink:href=\"#DejaVuSans-93\"/>\n    </g>\n   </g>\n   <g id=\"patch_4\">\n    <path d=\"M 230.7894 134.545801 \nQ 203.645772 99.288271 175.820112 63.144833 \n\" style=\"fill:none;stroke:#000000;stroke-linecap:round;\"/>\n    <path d=\"M 229.390761 127.368121 \nL 230.7894 134.545801 \nL 224.208072 131.358105 \n\" style=\"fill:none;stroke:#000000;stroke-linecap:round;\"/>\n   </g>\n   <g id=\"text_2\">\n    <g id=\"patch_5\">\n     <path d=\"M 184.994794 203.043593 \nL 331.605206 203.043593 \nL 331.605206 137.516407 \nL 184.994794 137.516407 \nz\n\" style=\"fill:#ffffff;stroke:#000000;stroke-linejoin:miter;\"/>\n    </g>\n    <!-- gini = 0.0 -->\n    <g transform=\"translate(218.335549 156.481764)scale(0.163516 -0.163516)\">\n     <use xlink:href=\"#DejaVuSans-103\"/>\n     <use x=\"63.476562\" xlink:href=\"#DejaVuSans-105\"/>\n     <use x=\"91.259766\" xlink:href=\"#DejaVuSans-110\"/>\n     <use x=\"154.638672\" xlink:href=\"#DejaVuSans-105\"/>\n     <use x=\"182.421875\" xlink:href=\"#DejaVuSans-32\"/>\n     <use x=\"214.208984\" xlink:href=\"#DejaVuSans-61\"/>\n     <use x=\"297.998047\" xlink:href=\"#DejaVuSans-32\"/>\n     <use x=\"329.785156\" xlink:href=\"#DejaVuSans-48\"/>\n     <use x=\"393.408203\" xlink:href=\"#DejaVuSans-46\"/>\n     <use x=\"425.195312\" xlink:href=\"#DejaVuSans-48\"/>\n    </g>\n    <!-- samples = 109 -->\n    <g transform=\"translate(196.661951 174.792033)scale(0.163516 -0.163516)\">\n     <defs>\n      <path d=\"M 10.984375 1.515625 \nL 10.984375 10.5 \nQ 14.703125 8.734375 18.5 7.8125 \nQ 22.3125 6.890625 25.984375 6.890625 \nQ 35.75 6.890625 40.890625 13.453125 \nQ 46.046875 20.015625 46.78125 33.40625 \nQ 43.953125 29.203125 39.59375 26.953125 \nQ 35.25 24.703125 29.984375 24.703125 \nQ 19.046875 24.703125 12.671875 31.3125 \nQ 6.296875 37.9375 6.296875 49.421875 \nQ 6.296875 60.640625 12.9375 67.421875 \nQ 19.578125 74.21875 30.609375 74.21875 \nQ 43.265625 74.21875 49.921875 64.515625 \nQ 56.59375 54.828125 56.59375 36.375 \nQ 56.59375 19.140625 48.40625 8.859375 \nQ 40.234375 -1.421875 26.421875 -1.421875 \nQ 22.703125 -1.421875 18.890625 -0.6875 \nQ 15.09375 0.046875 10.984375 1.515625 \nz\nM 30.609375 32.421875 \nQ 37.25 32.421875 41.125 36.953125 \nQ 45.015625 41.5 45.015625 49.421875 \nQ 45.015625 57.28125 41.125 61.84375 \nQ 37.25 66.40625 30.609375 66.40625 \nQ 23.96875 66.40625 20.09375 61.84375 \nQ 16.21875 57.28125 16.21875 49.421875 \nQ 16.21875 41.5 20.09375 36.953125 \nQ 23.96875 32.421875 30.609375 32.421875 \nz\n\" id=\"DejaVuSans-57\"/>\n     </defs>\n     <use xlink:href=\"#DejaVuSans-115\"/>\n     <use x=\"52.099609\" xlink:href=\"#DejaVuSans-97\"/>\n     <use x=\"113.378906\" xlink:href=\"#DejaVuSans-109\"/>\n     <use x=\"210.791016\" xlink:href=\"#DejaVuSans-112\"/>\n     <use x=\"274.267578\" xlink:href=\"#DejaVuSans-108\"/>\n     <use x=\"302.050781\" xlink:href=\"#DejaVuSans-101\"/>\n     <use x=\"363.574219\" xlink:href=\"#DejaVuSans-115\"/>\n     <use x=\"415.673828\" xlink:href=\"#DejaVuSans-32\"/>\n     <use x=\"447.460938\" xlink:href=\"#DejaVuSans-61\"/>\n     <use x=\"531.25\" xlink:href=\"#DejaVuSans-32\"/>\n     <use x=\"563.037109\" xlink:href=\"#DejaVuSans-49\"/>\n     <use x=\"626.660156\" xlink:href=\"#DejaVuSans-48\"/>\n     <use x=\"690.283203\" xlink:href=\"#DejaVuSans-57\"/>\n    </g>\n    <!-- value = [109, 0] -->\n    <g transform=\"translate(191.535453 193.102302)scale(0.163516 -0.163516)\">\n     <use xlink:href=\"#DejaVuSans-118\"/>\n     <use x=\"59.179688\" xlink:href=\"#DejaVuSans-97\"/>\n     <use x=\"120.458984\" xlink:href=\"#DejaVuSans-108\"/>\n     <use x=\"148.242188\" xlink:href=\"#DejaVuSans-117\"/>\n     <use x=\"211.621094\" xlink:href=\"#DejaVuSans-101\"/>\n     <use x=\"273.144531\" xlink:href=\"#DejaVuSans-32\"/>\n     <use x=\"304.931641\" xlink:href=\"#DejaVuSans-61\"/>\n     <use x=\"388.720703\" xlink:href=\"#DejaVuSans-32\"/>\n     <use x=\"420.507812\" xlink:href=\"#DejaVuSans-91\"/>\n     <use x=\"459.521484\" xlink:href=\"#DejaVuSans-49\"/>\n     <use x=\"523.144531\" xlink:href=\"#DejaVuSans-48\"/>\n     <use x=\"586.767578\" xlink:href=\"#DejaVuSans-57\"/>\n     <use x=\"650.390625\" xlink:href=\"#DejaVuSans-44\"/>\n     <use x=\"682.177734\" xlink:href=\"#DejaVuSans-32\"/>\n     <use x=\"713.964844\" xlink:href=\"#DejaVuSans-48\"/>\n     <use x=\"777.587891\" xlink:href=\"#DejaVuSans-93\"/>\n    </g>\n   </g>\n   <g id=\"text_3\">\n    <g id=\"patch_6\">\n     <path d=\"M 90.891058 103.478728 \nL 258.308942 103.478728 \nL 258.308942 19.641272 \nL 90.891058 19.641272 \nz\n\" style=\"fill:#ffffff;stroke:#000000;stroke-linejoin:miter;\"/>\n    </g>\n    <!-- X[20] &lt;= 0.5 -->\n    <g transform=\"translate(120.315082 38.606629)scale(0.163516 -0.163516)\">\n     <defs>\n      <path d=\"M 6.296875 72.90625 \nL 16.890625 72.90625 \nL 35.015625 45.796875 \nL 53.21875 72.90625 \nL 63.8125 72.90625 \nL 40.375 37.890625 \nL 65.375 0 \nL 54.78125 0 \nL 34.28125 31 \nL 13.625 0 \nL 2.984375 0 \nL 29 38.921875 \nz\n\" id=\"DejaVuSans-88\"/>\n      <path d=\"M 73.1875 49.21875 \nL 22.796875 31.296875 \nL 73.1875 13.484375 \nL 73.1875 4.59375 \nL 10.59375 27.296875 \nL 10.59375 35.40625 \nL 73.1875 58.109375 \nz\n\" id=\"DejaVuSans-60\"/>\n      <path d=\"M 10.796875 72.90625 \nL 49.515625 72.90625 \nL 49.515625 64.59375 \nL 19.828125 64.59375 \nL 19.828125 46.734375 \nQ 21.96875 47.46875 24.109375 47.828125 \nQ 26.265625 48.1875 28.421875 48.1875 \nQ 40.625 48.1875 47.75 41.5 \nQ 54.890625 34.8125 54.890625 23.390625 \nQ 54.890625 11.625 47.5625 5.09375 \nQ 40.234375 -1.421875 26.90625 -1.421875 \nQ 22.3125 -1.421875 17.546875 -0.640625 \nQ 12.796875 0.140625 7.71875 1.703125 \nL 7.71875 11.625 \nQ 12.109375 9.234375 16.796875 8.0625 \nQ 21.484375 6.890625 26.703125 6.890625 \nQ 35.15625 6.890625 40.078125 11.328125 \nQ 45.015625 15.765625 45.015625 23.390625 \nQ 45.015625 31 40.078125 35.4375 \nQ 35.15625 39.890625 26.703125 39.890625 \nQ 22.75 39.890625 18.8125 39.015625 \nQ 14.890625 38.140625 10.796875 36.28125 \nz\n\" id=\"DejaVuSans-53\"/>\n     </defs>\n     <use xlink:href=\"#DejaVuSans-88\"/>\n     <use x=\"68.505859\" xlink:href=\"#DejaVuSans-91\"/>\n     <use x=\"107.519531\" xlink:href=\"#DejaVuSans-50\"/>\n     <use x=\"171.142578\" xlink:href=\"#DejaVuSans-48\"/>\n     <use x=\"234.765625\" xlink:href=\"#DejaVuSans-93\"/>\n     <use x=\"273.779297\" xlink:href=\"#DejaVuSans-32\"/>\n     <use x=\"305.566406\" xlink:href=\"#DejaVuSans-60\"/>\n     <use x=\"389.355469\" xlink:href=\"#DejaVuSans-61\"/>\n     <use x=\"473.144531\" xlink:href=\"#DejaVuSans-32\"/>\n     <use x=\"504.931641\" xlink:href=\"#DejaVuSans-48\"/>\n     <use x=\"568.554688\" xlink:href=\"#DejaVuSans-46\"/>\n     <use x=\"600.341797\" xlink:href=\"#DejaVuSans-53\"/>\n    </g>\n    <!-- gini = 0.499 -->\n    <g transform=\"translate(124.231813 56.916898)scale(0.163516 -0.163516)\">\n     <defs>\n      <path d=\"M 37.796875 64.3125 \nL 12.890625 25.390625 \nL 37.796875 25.390625 \nz\nM 35.203125 72.90625 \nL 47.609375 72.90625 \nL 47.609375 25.390625 \nL 58.015625 25.390625 \nL 58.015625 17.1875 \nL 47.609375 17.1875 \nL 47.609375 0 \nL 37.796875 0 \nL 37.796875 17.1875 \nL 4.890625 17.1875 \nL 4.890625 26.703125 \nz\n\" id=\"DejaVuSans-52\"/>\n     </defs>\n     <use xlink:href=\"#DejaVuSans-103\"/>\n     <use x=\"63.476562\" xlink:href=\"#DejaVuSans-105\"/>\n     <use x=\"91.259766\" xlink:href=\"#DejaVuSans-110\"/>\n     <use x=\"154.638672\" xlink:href=\"#DejaVuSans-105\"/>\n     <use x=\"182.421875\" xlink:href=\"#DejaVuSans-32\"/>\n     <use x=\"214.208984\" xlink:href=\"#DejaVuSans-61\"/>\n     <use x=\"297.998047\" xlink:href=\"#DejaVuSans-32\"/>\n     <use x=\"329.785156\" xlink:href=\"#DejaVuSans-48\"/>\n     <use x=\"393.408203\" xlink:href=\"#DejaVuSans-46\"/>\n     <use x=\"425.195312\" xlink:href=\"#DejaVuSans-52\"/>\n     <use x=\"488.818359\" xlink:href=\"#DejaVuSans-57\"/>\n     <use x=\"552.441406\" xlink:href=\"#DejaVuSans-57\"/>\n    </g>\n    <!-- samples = 242 -->\n    <g transform=\"translate(112.961951 75.227168)scale(0.163516 -0.163516)\">\n     <use xlink:href=\"#DejaVuSans-115\"/>\n     <use x=\"52.099609\" xlink:href=\"#DejaVuSans-97\"/>\n     <use x=\"113.378906\" xlink:href=\"#DejaVuSans-109\"/>\n     <use x=\"210.791016\" xlink:href=\"#DejaVuSans-112\"/>\n     <use x=\"274.267578\" xlink:href=\"#DejaVuSans-108\"/>\n     <use x=\"302.050781\" xlink:href=\"#DejaVuSans-101\"/>\n     <use x=\"363.574219\" xlink:href=\"#DejaVuSans-115\"/>\n     <use x=\"415.673828\" xlink:href=\"#DejaVuSans-32\"/>\n     <use x=\"447.460938\" xlink:href=\"#DejaVuSans-61\"/>\n     <use x=\"531.25\" xlink:href=\"#DejaVuSans-32\"/>\n     <use x=\"563.037109\" xlink:href=\"#DejaVuSans-50\"/>\n     <use x=\"626.660156\" xlink:href=\"#DejaVuSans-52\"/>\n     <use x=\"690.283203\" xlink:href=\"#DejaVuSans-50\"/>\n    </g>\n    <!-- value = [126, 116] -->\n    <g transform=\"translate(97.431717 93.537437)scale(0.163516 -0.163516)\">\n     <use xlink:href=\"#DejaVuSans-118\"/>\n     <use x=\"59.179688\" xlink:href=\"#DejaVuSans-97\"/>\n     <use x=\"120.458984\" xlink:href=\"#DejaVuSans-108\"/>\n     <use x=\"148.242188\" xlink:href=\"#DejaVuSans-117\"/>\n     <use x=\"211.621094\" xlink:href=\"#DejaVuSans-101\"/>\n     <use x=\"273.144531\" xlink:href=\"#DejaVuSans-32\"/>\n     <use x=\"304.931641\" xlink:href=\"#DejaVuSans-61\"/>\n     <use x=\"388.720703\" xlink:href=\"#DejaVuSans-32\"/>\n     <use x=\"420.507812\" xlink:href=\"#DejaVuSans-91\"/>\n     <use x=\"459.521484\" xlink:href=\"#DejaVuSans-49\"/>\n     <use x=\"523.144531\" xlink:href=\"#DejaVuSans-50\"/>\n     <use x=\"586.767578\" xlink:href=\"#DejaVuSans-54\"/>\n     <use x=\"650.390625\" xlink:href=\"#DejaVuSans-44\"/>\n     <use x=\"682.177734\" xlink:href=\"#DejaVuSans-32\"/>\n     <use x=\"713.964844\" xlink:href=\"#DejaVuSans-49\"/>\n     <use x=\"777.587891\" xlink:href=\"#DejaVuSans-49\"/>\n     <use x=\"841.210938\" xlink:href=\"#DejaVuSans-54\"/>\n     <use x=\"904.833984\" xlink:href=\"#DejaVuSans-93\"/>\n    </g>\n   </g>\n  </g>\n </g>\n</svg>\n",
      "image/png": "[encoded data removed]"
     },
     "metadata": {
      "needs_background": "light"
     }
    }
   ],
   "source": [
    "from sklearn import tree\n",
    "tree.plot_tree(dtree)"
   ]
  }
 ]
}